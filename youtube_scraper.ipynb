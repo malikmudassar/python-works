from selenium import webdriver
from selenium.webdriver.common.keys import Keys
from webdriver_manager.chrome import ChromeDriverManager
import time
from bs4 import BeautifulSoup
import pandas as pd
driver = webdriver.Chrome(ChromeDriverManager().install()) 
driver.get("https://www.youtube.com/c/MakeDataUseful/videos")
driver.find_element_by_tag_name('body').send_keys(Keys.END)
html = driver.page_source
soup = BeautifulSoup(html, 'html.parser')
videos = soup.find_all('div', {"id":"dismissible"})
master_list = []
for video in videos:
    date_dict = {}
    date_dict['title']     = video.find('a',{'id':'video-title'})
    date_dict['video_url'] = "https://www.youtube.com"+video.find('a',{'id':'video-title'})['href']
    meta                   = video.find('div',{'id':'metadata-line'}).find_all('span')
    date_dict['views']     = meta[0].text
    date_dict['video_age'] = meta[1].text
    master_list.append(date_dict)
    
videos_df = pd.DataFrame(master_list)
videos_df.to_csv('youtube_channel.csv', index=False)
