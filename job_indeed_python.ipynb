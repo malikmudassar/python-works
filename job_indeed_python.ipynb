import requests
from bs4 import BeautifulSoup
import pandas as pd

# Extraction of Data
def extract(page):
    headers = {'User-Agent':'Mozilla/5.0 (X11; Linux x86_64) AppleWebKit/537.36 (KHTML, like Gecko) Chrome/95.0.4638.69 Safari/537.36'}
    url = f'https://pk.indeed.com/jobs?q=python&start={page}'
    r = requests.get(url, headers)
    soup = BeautifulSoup(r.content, 'html.parser')
    return soup

# Transformation of Data
def transform(soup):
    divs = soup.find_all('a', class_ = 'fs-unmask')
    
    for item in divs:
        url_data = item['href']
        title = item.find('h2').text.strip().replace('new','')
        company = item.find('span', class_ = 'companyName').text.strip()
        city = item.find('div', class_ = 'companyLocation').text.strip()
        try:
            salary = item.find('div', class_ = 'salary-snippet').text.strip()
        except:
            salary = ''
        summary = item.find('div', class_ = 'job-snippet').text.strip().replace('\n','')
        prefix_url="https://pk.indeed.com/"
        joblink=prefix_url+url_data
        job = {"title":title,"company":company,"city":city,"salary":salary,"summary":summary,"joblink":joblink}
        joblist.append(job)
        #job_link=
    return

joblist = []

# Creating Dictionary

for i in range(0,390, 10):
    c = extract(0)
    transform(c)

# Saving to CSV

job_data=pd.DataFrame(joblist)

job_data.to_csv("job_indeed_python_developer.csv")
